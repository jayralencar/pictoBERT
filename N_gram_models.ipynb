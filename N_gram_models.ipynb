{
  "nbformat": 4,
  "nbformat_minor": 0,
  "metadata": {
    "colab": {
      "name": "N-gram models.ipynb",
      "provenance": []
    },
    "kernelspec": {
      "name": "python3",
      "display_name": "Python 3"
    },
    "language_info": {
      "name": "python"
    }
  },
  "cells": [
    {
      "cell_type": "markdown",
      "metadata": {
        "id": "MXCpNbOsPQfO"
      },
      "source": [
        "# Train and test statistical n-gram models\n",
        "\n"
      ]
    },
    {
      "cell_type": "code",
      "metadata": {
        "colab": {
          "base_uri": "https://localhost:8080/"
        },
        "id": "4T1Yuh7DPLfm",
        "outputId": "608589d1-3f8c-4698-903b-ca5516b1c6b2"
      },
      "source": [
        "!pip install nltk==3.4 transformers"
      ],
      "execution_count": 1,
      "outputs": [
        {
          "output_type": "stream",
          "text": [
            "Collecting nltk==3.4\n",
            "\u001b[?25l  Downloading https://files.pythonhosted.org/packages/6f/ed/9c755d357d33bc1931e157f537721efb5b88d2c583fe593cc09603076cc3/nltk-3.4.zip (1.4MB)\n",
            "\u001b[K     |████████████████████████████████| 1.4MB 32.2MB/s \n",
            "\u001b[?25hCollecting transformers\n",
            "\u001b[?25l  Downloading https://files.pythonhosted.org/packages/d8/b2/57495b5309f09fa501866e225c84532d1fd89536ea62406b2181933fb418/transformers-4.5.1-py3-none-any.whl (2.1MB)\n",
            "\u001b[K     |████████████████████████████████| 2.1MB 29.5MB/s \n",
            "\u001b[?25hRequirement already satisfied: six in /usr/local/lib/python3.7/dist-packages (from nltk==3.4) (1.15.0)\n",
            "Collecting singledispatch\n",
            "  Downloading https://files.pythonhosted.org/packages/7a/12/2b10635e91ec4007e2a287812b1a1c8649cf68686ff2d69ed97553cf8a7a/singledispatch-3.6.1-py2.py3-none-any.whl\n",
            "Collecting tokenizers<0.11,>=0.10.1\n",
            "\u001b[?25l  Downloading https://files.pythonhosted.org/packages/ae/04/5b870f26a858552025a62f1649c20d29d2672c02ff3c3fb4c688ca46467a/tokenizers-0.10.2-cp37-cp37m-manylinux2010_x86_64.whl (3.3MB)\n",
            "\u001b[K     |████████████████████████████████| 3.3MB 32.7MB/s \n",
            "\u001b[?25hRequirement already satisfied: numpy>=1.17 in /usr/local/lib/python3.7/dist-packages (from transformers) (1.19.5)\n",
            "Requirement already satisfied: packaging in /usr/local/lib/python3.7/dist-packages (from transformers) (20.9)\n",
            "Requirement already satisfied: regex!=2019.12.17 in /usr/local/lib/python3.7/dist-packages (from transformers) (2019.12.20)\n",
            "Collecting sacremoses\n",
            "\u001b[?25l  Downloading https://files.pythonhosted.org/packages/75/ee/67241dc87f266093c533a2d4d3d69438e57d7a90abb216fa076e7d475d4a/sacremoses-0.0.45-py3-none-any.whl (895kB)\n",
            "\u001b[K     |████████████████████████████████| 901kB 30.6MB/s \n",
            "\u001b[?25hRequirement already satisfied: importlib-metadata; python_version < \"3.8\" in /usr/local/lib/python3.7/dist-packages (from transformers) (3.10.1)\n",
            "Requirement already satisfied: requests in /usr/local/lib/python3.7/dist-packages (from transformers) (2.23.0)\n",
            "Requirement already satisfied: tqdm>=4.27 in /usr/local/lib/python3.7/dist-packages (from transformers) (4.41.1)\n",
            "Requirement already satisfied: filelock in /usr/local/lib/python3.7/dist-packages (from transformers) (3.0.12)\n",
            "Requirement already satisfied: pyparsing>=2.0.2 in /usr/local/lib/python3.7/dist-packages (from packaging->transformers) (2.4.7)\n",
            "Requirement already satisfied: joblib in /usr/local/lib/python3.7/dist-packages (from sacremoses->transformers) (1.0.1)\n",
            "Requirement already satisfied: click in /usr/local/lib/python3.7/dist-packages (from sacremoses->transformers) (7.1.2)\n",
            "Requirement already satisfied: typing-extensions>=3.6.4; python_version < \"3.8\" in /usr/local/lib/python3.7/dist-packages (from importlib-metadata; python_version < \"3.8\"->transformers) (3.7.4.3)\n",
            "Requirement already satisfied: zipp>=0.5 in /usr/local/lib/python3.7/dist-packages (from importlib-metadata; python_version < \"3.8\"->transformers) (3.4.1)\n",
            "Requirement already satisfied: chardet<4,>=3.0.2 in /usr/local/lib/python3.7/dist-packages (from requests->transformers) (3.0.4)\n",
            "Requirement already satisfied: urllib3!=1.25.0,!=1.25.1,<1.26,>=1.21.1 in /usr/local/lib/python3.7/dist-packages (from requests->transformers) (1.24.3)\n",
            "Requirement already satisfied: idna<3,>=2.5 in /usr/local/lib/python3.7/dist-packages (from requests->transformers) (2.10)\n",
            "Requirement already satisfied: certifi>=2017.4.17 in /usr/local/lib/python3.7/dist-packages (from requests->transformers) (2020.12.5)\n",
            "Building wheels for collected packages: nltk\n",
            "  Building wheel for nltk (setup.py) ... \u001b[?25l\u001b[?25hdone\n",
            "  Created wheel for nltk: filename=nltk-3.4-cp37-none-any.whl size=1436385 sha256=c6cd73928dcb050062ad617bc6cc323d8d14e33301fe955a7ef6f5f0f0f230ce\n",
            "  Stored in directory: /root/.cache/pip/wheels/4b/c8/24/b2343664bcceb7147efeb21c0b23703a05b23fcfeaceaa2a1e\n",
            "Successfully built nltk\n",
            "Installing collected packages: singledispatch, nltk, tokenizers, sacremoses, transformers\n",
            "  Found existing installation: nltk 3.2.5\n",
            "    Uninstalling nltk-3.2.5:\n",
            "      Successfully uninstalled nltk-3.2.5\n",
            "Successfully installed nltk-3.4 sacremoses-0.0.45 singledispatch-3.6.1 tokenizers-0.10.2 transformers-4.5.1\n"
          ],
          "name": "stdout"
        }
      ]
    },
    {
      "cell_type": "markdown",
      "metadata": {
        "id": "JQsgDDYwPbmw"
      },
      "source": [
        "## Load tokenizer"
      ]
    },
    {
      "cell_type": "code",
      "metadata": {
        "colab": {
          "base_uri": "https://localhost:8080/"
        },
        "id": "KOR-goUkPgRc",
        "outputId": "5fc4b11c-bd43-4156-a71d-281012596247"
      },
      "source": [
        "!gdown https://drive.google.com/uc?id=1-2g-GCxjBwESqDn3JByAJABU9Dkuqy0m"
      ],
      "execution_count": 2,
      "outputs": [
        {
          "output_type": "stream",
          "text": [
            "Downloading...\n",
            "From: https://drive.google.com/uc?id=1-2g-GCxjBwESqDn3JByAJABU9Dkuqy0m\n",
            "To: /content/childes_all_new.json\n",
            "\r  0% 0.00/332k [00:00<?, ?B/s]\r100% 332k/332k [00:00<00:00, 5.16MB/s]\n"
          ],
          "name": "stdout"
        }
      ]
    },
    {
      "cell_type": "code",
      "metadata": {
        "id": "mVWFsnOkPjtM"
      },
      "source": [
        "TOKENIZER_PATH = \"./childes_all_new.json\" # you can change this path to use your custom tokenizer\n",
        "\n",
        "from transformers import PreTrainedTokenizerFast\n",
        "\n",
        "loaded_tokenizer = PreTrainedTokenizerFast(tokenizer_file=TOKENIZER_PATH)\n",
        "loaded_tokenizer.pad_token = \"[PAD]\"\n",
        "loaded_tokenizer.sep_token = \"[SEP]\"\n",
        "loaded_tokenizer.mask_token = \"[MASK]\"\n",
        "loaded_tokenizer.cls_token = \"[CLS]\"\n",
        "loaded_tokenizer.unk_token = \"[UNK]\""
      ],
      "execution_count": 3,
      "outputs": []
    },
    {
      "cell_type": "markdown",
      "metadata": {
        "id": "Tl6wkMb5Po42"
      },
      "source": [
        "## Loading datasets"
      ]
    },
    {
      "cell_type": "code",
      "metadata": {
        "colab": {
          "base_uri": "https://localhost:8080/"
        },
        "id": "AkqwvvITPqq_",
        "outputId": "67bf899e-a330-46fd-8d5f-db1e92cf918f"
      },
      "source": [
        "!gdown https://drive.google.com/uc?id=1Mn2eIeSCBLk8tpU2NwNQblooFcqSbjmh\n",
        "!gdown https://drive.google.com/uc?id=1qEX2zVxX8xFbBfY4mLSf0qG4wgkHFggD\n",
        "!gdown https://drive.google.com/uc?id=1BwPXeP3lKQk-orKAq1bs2C7hg-B1D6QG"
      ],
      "execution_count": 4,
      "outputs": [
        {
          "output_type": "stream",
          "text": [
            "Downloading...\n",
            "From: https://drive.google.com/uc?id=1Mn2eIeSCBLk8tpU2NwNQblooFcqSbjmh\n",
            "To: /content/train_childes_all.pt\n",
            "247MB [00:03, 68.2MB/s]\n",
            "Downloading...\n",
            "From: https://drive.google.com/uc?id=1qEX2zVxX8xFbBfY4mLSf0qG4wgkHFggD\n",
            "To: /content/test_childes_all.pt\n",
            "2.52MB [00:00, 39.3MB/s]\n",
            "Downloading...\n",
            "From: https://drive.google.com/uc?id=1BwPXeP3lKQk-orKAq1bs2C7hg-B1D6QG\n",
            "To: /content/val_childes_all.pt\n",
            "2.52MB [00:00, 39.1MB/s]\n"
          ],
          "name": "stdout"
        }
      ]
    },
    {
      "cell_type": "code",
      "metadata": {
        "id": "ymui33RyPrOr"
      },
      "source": [
        "import pickle\n",
        "\n",
        "train_dataset = pickle.load(open('./train_childes_all.pt','rb'))\n",
        "\n",
        "val_dataset = pickle.load(open('./val_childes_all.pt','rb'))\n",
        "\n",
        "test_dataset = pickle.load(open('./test_childes_all.pt','rb'))"
      ],
      "execution_count": 5,
      "outputs": []
    },
    {
      "cell_type": "code",
      "metadata": {
        "id": "z3mEPUg1P3Ap"
      },
      "source": [
        "train = [loaded_tokenizer.convert_ids_to_tokens(s) for s in train_dataset['ngrams'] + val_dataset['ngrams']]\n",
        "test = [loaded_tokenizer.convert_ids_to_tokens(s) for s in test_dataset['ngrams']]"
      ],
      "execution_count": 6,
      "outputs": []
    },
    {
      "cell_type": "markdown",
      "metadata": {
        "id": "hLBfxu-0P59B"
      },
      "source": [
        "## NLTK MLE\n",
        "\n",
        "We used NLTK MLE due to the low memory consumption.\n"
      ]
    },
    {
      "cell_type": "code",
      "metadata": {
        "id": "VcJYcILMQFxi"
      },
      "source": [
        "from nltk.lm import Vocabulary\n",
        "from nltk.lm.preprocessing import flatten\n",
        "\n",
        "all = list(flatten(train+test)) # combine datasets\n",
        "vocab = Vocabulary(all)         # get vocab"
      ],
      "execution_count": 8,
      "outputs": []
    },
    {
      "cell_type": "code",
      "metadata": {
        "id": "jb-PxGBHQMIu"
      },
      "source": [
        "from nltk import ngrams\n",
        "from nltk.lm import MLE\n",
        "import numpy as np\n",
        "import math"
      ],
      "execution_count": 7,
      "outputs": []
    },
    {
      "cell_type": "markdown",
      "metadata": {
        "id": "4Kn_QFUYQRYh"
      },
      "source": [
        "## Train and test"
      ]
    },
    {
      "cell_type": "code",
      "metadata": {
        "id": "t-2zv56SQRtC"
      },
      "source": [
        "import pandas as pd\n",
        "\n",
        "ppl_df = pd.DataFrame(columns=[\"n\",'Cross Entropy','Perplexity'])"
      ],
      "execution_count": 9,
      "outputs": []
    },
    {
      "cell_type": "code",
      "metadata": {
        "colab": {
          "base_uri": "https://localhost:8080/"
        },
        "id": "3sfIqwgRQYZx",
        "outputId": "b65f970d-a95b-4139-e5f2-4f65d79fb5a2"
      },
      "source": [
        "max_order = 5\n",
        "entropies = []\n",
        "ppls = []\n",
        "for order in range(2,max_order+1):\n",
        "  train_data = [list(ngrams(sentence,order,pad_left=True,left_pad_symbol=\"[PAD]\")) for sentence in train]\n",
        "  test_data = [list(ngrams(sentence,order,pad_left=True,left_pad_symbol=\"[PAD]\")) for sentence in test]\n",
        "\n",
        "  lm = MLE(order,vocabulary=vocab)\n",
        "\n",
        "  lm.fit(train_data)\n",
        "\n",
        "  all_scores = [lm.logscore(a[-1],a[:-1]) if lm.logscore(a[-1],a[:-1]) != -math.inf else 0.0 for a in flatten(test_data)]\n",
        "  entropy = -1 * np.mean(all_scores)\n",
        "  entropies.append(entropy)\n",
        "  ppls.append(math.exp(entropy))\n",
        "  print(\"Order:\", order)\n",
        "  print(\"Cross Entropy:\", entropy)\n",
        "  print(\"Perplexity:\", math.exp(entropy))\n",
        "  print()"
      ],
      "execution_count": 10,
      "outputs": [
        {
          "output_type": "stream",
          "text": [
            "Order: 2\n",
            "Cross Entropy: 5.3993701887905425\n",
            "Perplexity: 221.26701586397223\n",
            "\n",
            "Order: 3\n",
            "Cross Entropy: 3.7820436023897113\n",
            "Perplexity: 43.90567586023316\n",
            "\n",
            "Order: 4\n",
            "Cross Entropy: 3.043260441072137\n",
            "Perplexity: 20.973514785963815\n",
            "\n",
            "Order: 5\n",
            "Cross Entropy: 2.805126389084704\n",
            "Perplexity: 16.529164880068233\n",
            "\n"
          ],
          "name": "stdout"
        }
      ]
    },
    {
      "cell_type": "code",
      "metadata": {
        "id": "OppzD42EQbAl"
      },
      "source": [
        "ppl_df['order'] = list(range(2,max_order+1))\n",
        "ppl_df['Cross Entropy'] = entropies\n",
        "ppl_df['Perplexity'] = ppls"
      ],
      "execution_count": 11,
      "outputs": []
    },
    {
      "cell_type": "code",
      "metadata": {
        "colab": {
          "base_uri": "https://localhost:8080/",
          "height": 300
        },
        "id": "8fwtpQS3Qd0G",
        "outputId": "37ebddf6-d552-4ed3-fa44-c0049349d82a"
      },
      "source": [
        "ppl_df.plot(x=\"order\",y=['Perplexity',\"Cross Entropy\"],ylim=(0,200))"
      ],
      "execution_count": 12,
      "outputs": [
        {
          "output_type": "execute_result",
          "data": {
            "text/plain": [
              "<matplotlib.axes._subplots.AxesSubplot at 0x7fb89a567590>"
            ]
          },
          "metadata": {
            "tags": []
          },
          "execution_count": 12
        },
        {
          "output_type": "display_data",
          "data": {
            "image/png": "[encoded data removed]",
            "text/plain": [
              "<Figure size 432x288 with 1 Axes>"
            ]
          },
          "metadata": {
            "tags": [],
            "needs_background": "light"
          }
        }
      ]
    }
  ]
}